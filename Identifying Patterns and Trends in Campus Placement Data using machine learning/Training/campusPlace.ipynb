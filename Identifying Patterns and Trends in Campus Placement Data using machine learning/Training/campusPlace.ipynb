{
  "nbformat": 4,
  "nbformat_minor": 0,
  "metadata": {
    "colab": {
      "provenance": []
    },
    "kernelspec": {
      "name": "python3",
      "display_name": "Python 3"
    },
    "language_info": {
      "name": "python"
    }
  },
  "cells": [
    {
      "cell_type": "code",
      "execution_count": 1,
      "metadata": {
        "id": "0sS1f81QnVUY"
      },
      "outputs": [],
      "source": [
        "from logging import warning\n",
        "import numpy as np\n",
        "import pandas as pd\n",
        "import os\n",
        "import seaborn as sns\n",
        "import matplotlib.pyplot as plt\n",
        "from sklearn import svm\n",
        "from sklearn.metrics import accuracy_score\n",
        "from sklearn.neighbors import KNeighborsClassifier\n",
        "from sklearn import metrics\n",
        "from sklearn.model_selection import cross_val_score\n",
        "from sklearn import preprocessing\n",
        "from sklearn.model_selection import train_test_split\n",
        "import joblib\n",
        "from sklearn.preprocessing import StandardScaler\n",
        "from sklearn.metrics import classification_report,confusion_matrix\n",
        "import warnings\n",
        "warnings.filterwarnings('ignore')"
      ]
    },
    {
      "cell_type": "markdown",
      "source": [
        "##Read The Dataset"
      ],
      "metadata": {
        "id": "3YzSV0JDngBr"
      }
    },
    {
      "cell_type": "code",
      "source": [
        "df=pd.read_csv('/content/collegePlace.xls')\n",
        "df.head()"
      ],
      "metadata": {
        "colab": {
          "base_uri": "https://localhost:8080/",
          "height": 206
        },
        "id": "JzED6RYXqonH",
        "outputId": "c4d953a2-34c2-467e-8b6e-6f6778d826a3"
      },
      "execution_count": 2,
      "outputs": [
        {
          "output_type": "execute_result",
          "data": {
            "text/plain": [
              "   Age  Gender                         Stream  Internships  CGPA  Hostel  \\\n",
              "0   22    Male  Electronics And Communication            1     8       1   \n",
              "1   21  Female               Computer Science            0     7       1   \n",
              "2   22  Female         Information Technology            1     6       0   \n",
              "3   21    Male         Information Technology            0     8       0   \n",
              "4   22    Male                     Mechanical            0     8       1   \n",
              "\n",
              "   HistoryOfBacklogs  PlacedOrNot  \n",
              "0                  1            1  \n",
              "1                  1            1  \n",
              "2                  0            1  \n",
              "3                  1            1  \n",
              "4                  0            1  "
            ],
            "text/html": [
              "\n",
              "  <div id=\"df-ee406bbd-076a-4c79-891f-7826b9b5adf9\">\n",
              "    <div class=\"colab-df-container\">\n",
              "      <div>\n",
              "<style scoped>\n",
              "    .dataframe tbody tr th:only-of-type {\n",
              "        vertical-align: middle;\n",
              "    }\n",
              "\n",
              "    .dataframe tbody tr th {\n",
              "        vertical-align: top;\n",
              "    }\n",
              "\n",
              "    .dataframe thead th {\n",
              "        text-align: right;\n",
              "    }\n",
              "</style>\n",
              "<table border=\"1\" class=\"dataframe\">\n",
              "  <thead>\n",
              "    <tr style=\"text-align: right;\">\n",
              "      <th></th>\n",
              "      <th>Age</th>\n",
              "      <th>Gender</th>\n",
              "      <th>Stream</th>\n",
              "      <th>Internships</th>\n",
              "      <th>CGPA</th>\n",
              "      <th>Hostel</th>\n",
              "      <th>HistoryOfBacklogs</th>\n",
              "      <th>PlacedOrNot</th>\n",
              "    </tr>\n",
              "  </thead>\n",
              "  <tbody>\n",
              "    <tr>\n",
              "      <th>0</th>\n",
              "      <td>22</td>\n",
              "      <td>Male</td>\n",
              "      <td>Electronics And Communication</td>\n",
              "      <td>1</td>\n",
              "      <td>8</td>\n",
              "      <td>1</td>\n",
              "      <td>1</td>\n",
              "      <td>1</td>\n",
              "    </tr>\n",
              "    <tr>\n",
              "      <th>1</th>\n",
              "      <td>21</td>\n",
              "      <td>Female</td>\n",
              "      <td>Computer Science</td>\n",
              "      <td>0</td>\n",
              "      <td>7</td>\n",
              "      <td>1</td>\n",
              "      <td>1</td>\n",
              "      <td>1</td>\n",
              "    </tr>\n",
              "    <tr>\n",
              "      <th>2</th>\n",
              "      <td>22</td>\n",
              "      <td>Female</td>\n",
              "      <td>Information Technology</td>\n",
              "      <td>1</td>\n",
              "      <td>6</td>\n",
              "      <td>0</td>\n",
              "      <td>0</td>\n",
              "      <td>1</td>\n",
              "    </tr>\n",
              "    <tr>\n",
              "      <th>3</th>\n",
              "      <td>21</td>\n",
              "      <td>Male</td>\n",
              "      <td>Information Technology</td>\n",
              "      <td>0</td>\n",
              "      <td>8</td>\n",
              "      <td>0</td>\n",
              "      <td>1</td>\n",
              "      <td>1</td>\n",
              "    </tr>\n",
              "    <tr>\n",
              "      <th>4</th>\n",
              "      <td>22</td>\n",
              "      <td>Male</td>\n",
              "      <td>Mechanical</td>\n",
              "      <td>0</td>\n",
              "      <td>8</td>\n",
              "      <td>1</td>\n",
              "      <td>0</td>\n",
              "      <td>1</td>\n",
              "    </tr>\n",
              "  </tbody>\n",
              "</table>\n",
              "</div>\n",
              "      <button class=\"colab-df-convert\" onclick=\"convertToInteractive('df-ee406bbd-076a-4c79-891f-7826b9b5adf9')\"\n",
              "              title=\"Convert this dataframe to an interactive table.\"\n",
              "              style=\"display:none;\">\n",
              "        \n",
              "  <svg xmlns=\"http://www.w3.org/2000/svg\" height=\"24px\"viewBox=\"0 0 24 24\"\n",
              "       width=\"24px\">\n",
              "    <path d=\"M0 0h24v24H0V0z\" fill=\"none\"/>\n",
              "    <path d=\"M18.56 5.44l.94 2.06.94-2.06 2.06-.94-2.06-.94-.94-2.06-.94 2.06-2.06.94zm-11 1L8.5 8.5l.94-2.06 2.06-.94-2.06-.94L8.5 2.5l-.94 2.06-2.06.94zm10 10l.94 2.06.94-2.06 2.06-.94-2.06-.94-.94-2.06-.94 2.06-2.06.94z\"/><path d=\"M17.41 7.96l-1.37-1.37c-.4-.4-.92-.59-1.43-.59-.52 0-1.04.2-1.43.59L10.3 9.45l-7.72 7.72c-.78.78-.78 2.05 0 2.83L4 21.41c.39.39.9.59 1.41.59.51 0 1.02-.2 1.41-.59l7.78-7.78 2.81-2.81c.8-.78.8-2.07 0-2.86zM5.41 20L4 18.59l7.72-7.72 1.47 1.35L5.41 20z\"/>\n",
              "  </svg>\n",
              "      </button>\n",
              "      \n",
              "  <style>\n",
              "    .colab-df-container {\n",
              "      display:flex;\n",
              "      flex-wrap:wrap;\n",
              "      gap: 12px;\n",
              "    }\n",
              "\n",
              "    .colab-df-convert {\n",
              "      background-color: #E8F0FE;\n",
              "      border: none;\n",
              "      border-radius: 50%;\n",
              "      cursor: pointer;\n",
              "      display: none;\n",
              "      fill: #1967D2;\n",
              "      height: 32px;\n",
              "      padding: 0 0 0 0;\n",
              "      width: 32px;\n",
              "    }\n",
              "\n",
              "    .colab-df-convert:hover {\n",
              "      background-color: #E2EBFA;\n",
              "      box-shadow: 0px 1px 2px rgba(60, 64, 67, 0.3), 0px 1px 3px 1px rgba(60, 64, 67, 0.15);\n",
              "      fill: #174EA6;\n",
              "    }\n",
              "\n",
              "    [theme=dark] .colab-df-convert {\n",
              "      background-color: #3B4455;\n",
              "      fill: #D2E3FC;\n",
              "    }\n",
              "\n",
              "    [theme=dark] .colab-df-convert:hover {\n",
              "      background-color: #434B5C;\n",
              "      box-shadow: 0px 1px 3px 1px rgba(0, 0, 0, 0.15);\n",
              "      filter: drop-shadow(0px 1px 2px rgba(0, 0, 0, 0.3));\n",
              "      fill: #FFFFFF;\n",
              "    }\n",
              "  </style>\n",
              "\n",
              "      <script>\n",
              "        const buttonEl =\n",
              "          document.querySelector('#df-ee406bbd-076a-4c79-891f-7826b9b5adf9 button.colab-df-convert');\n",
              "        buttonEl.style.display =\n",
              "          google.colab.kernel.accessAllowed ? 'block' : 'none';\n",
              "\n",
              "        async function convertToInteractive(key) {\n",
              "          const element = document.querySelector('#df-ee406bbd-076a-4c79-891f-7826b9b5adf9');\n",
              "          const dataTable =\n",
              "            await google.colab.kernel.invokeFunction('convertToInteractive',\n",
              "                                                     [key], {});\n",
              "          if (!dataTable) return;\n",
              "\n",
              "          const docLinkHtml = 'Like what you see? Visit the ' +\n",
              "            '<a target=\"_blank\" href=https://colab.research.google.com/notebooks/data_table.ipynb>data table notebook</a>'\n",
              "            + ' to learn more about interactive tables.';\n",
              "          element.innerHTML = '';\n",
              "          dataTable['output_type'] = 'display_data';\n",
              "          await google.colab.output.renderOutput(dataTable, element);\n",
              "          const docLink = document.createElement('div');\n",
              "          docLink.innerHTML = docLinkHtml;\n",
              "          element.appendChild(docLink);\n",
              "        }\n",
              "      </script>\n",
              "    </div>\n",
              "  </div>\n",
              "  "
            ]
          },
          "metadata": {},
          "execution_count": 2
        }
      ]
    },
    {
      "cell_type": "markdown",
      "source": [
        "#Data Preparation\n",
        "##1)Handling Missing Values"
      ],
      "metadata": {
        "id": "XEEkQLzNnzA7"
      }
    },
    {
      "cell_type": "code",
      "source": [
        "df.info()"
      ],
      "metadata": {
        "colab": {
          "base_uri": "https://localhost:8080/"
        },
        "id": "q9fxqoBzrGE7",
        "outputId": "d28d1656-0a88-473e-9a0a-5a10ab7cc9da"
      },
      "execution_count": 3,
      "outputs": [
        {
          "output_type": "stream",
          "name": "stdout",
          "text": [
            "<class 'pandas.core.frame.DataFrame'>\n",
            "RangeIndex: 2966 entries, 0 to 2965\n",
            "Data columns (total 8 columns):\n",
            " #   Column             Non-Null Count  Dtype \n",
            "---  ------             --------------  ----- \n",
            " 0   Age                2966 non-null   int64 \n",
            " 1   Gender             2966 non-null   object\n",
            " 2   Stream             2966 non-null   object\n",
            " 3   Internships        2966 non-null   int64 \n",
            " 4   CGPA               2966 non-null   int64 \n",
            " 5   Hostel             2966 non-null   int64 \n",
            " 6   HistoryOfBacklogs  2966 non-null   int64 \n",
            " 7   PlacedOrNot        2966 non-null   int64 \n",
            "dtypes: int64(6), object(2)\n",
            "memory usage: 185.5+ KB\n"
          ]
        }
      ]
    },
    {
      "cell_type": "code",
      "source": [
        "df.isnull().sum()"
      ],
      "metadata": {
        "id": "fj62Upj_rM6w",
        "colab": {
          "base_uri": "https://localhost:8080/"
        },
        "outputId": "25a5b939-ab7e-4cc7-af78-8ac5222376ea"
      },
      "execution_count": 4,
      "outputs": [
        {
          "output_type": "execute_result",
          "data": {
            "text/plain": [
              "Age                  0\n",
              "Gender               0\n",
              "Stream               0\n",
              "Internships          0\n",
              "CGPA                 0\n",
              "Hostel               0\n",
              "HistoryOfBacklogs    0\n",
              "PlacedOrNot          0\n",
              "dtype: int64"
            ]
          },
          "metadata": {},
          "execution_count": 4
        }
      ]
    },
    {
      "cell_type": "markdown",
      "source": [
        "##2)Handling Outliers"
      ],
      "metadata": {
        "id": "tFou0KRloD5S"
      }
    },
    {
      "cell_type": "code",
      "source": [
        "def transformation(feature):\n",
        "  plt.figure(figsize=(12,5))\n",
        "  plt.subplot(1,2,1)\n",
        "  sns.boxplot(feature)\n",
        "transformation(np.log(df['Age']))\n"
      ],
      "metadata": {
        "id": "2CMeOLEbrXtC",
        "colab": {
          "base_uri": "https://localhost:8080/",
          "height": 445
        },
        "outputId": "4146876e-aaa9-49dd-9abf-ba2cdb566e99"
      },
      "execution_count": 5,
      "outputs": [
        {
          "output_type": "display_data",
          "data": {
            "text/plain": [
              "<Figure size 1200x500 with 1 Axes>"
            ],
            "image/png": "[encoded data removed]"
          },
          "metadata": {}
        }
      ]
    },
    {
      "cell_type": "markdown",
      "source": [
        "##3)Handling Categorical Values"
      ],
      "metadata": {
        "id": "3YzIuaqioR2J"
      }
    },
    {
      "cell_type": "code",
      "source": [
        "df=df.replace(['Male'],[0])\n",
        "df=df.replace(['Female'],[1])\n",
        "df=df.replace(['Civil','Computer Science','Electrical','Electronics And Communication','Information Technology','Mechanical'],[0,1,2,3,4,5])"
      ],
      "metadata": {
        "id": "G_s-ukONsudh"
      },
      "execution_count": 6,
      "outputs": []
    },
    {
      "cell_type": "code",
      "source": [
        "df=df.drop(['Hostel'],axis=1)\n",
        "df"
      ],
      "metadata": {
        "id": "G0ZybwequRJJ",
        "colab": {
          "base_uri": "https://localhost:8080/",
          "height": 423
        },
        "outputId": "79409cf7-3187-4479-eb9b-4fbc89f12098"
      },
      "execution_count": 7,
      "outputs": [
        {
          "output_type": "execute_result",
          "data": {
            "text/plain": [
              "      Age  Gender  Stream  Internships  CGPA  HistoryOfBacklogs  PlacedOrNot\n",
              "0      22       0       3            1     8                  1            1\n",
              "1      21       1       1            0     7                  1            1\n",
              "2      22       1       4            1     6                  0            1\n",
              "3      21       0       4            0     8                  1            1\n",
              "4      22       0       5            0     8                  0            1\n",
              "...   ...     ...     ...          ...   ...                ...          ...\n",
              "2961   23       0       4            0     7                  0            0\n",
              "2962   23       0       5            1     7                  0            0\n",
              "2963   22       0       4            1     7                  0            0\n",
              "2964   22       0       1            1     7                  0            0\n",
              "2965   23       0       0            0     8                  0            1\n",
              "\n",
              "[2966 rows x 7 columns]"
            ],
            "text/html": [
              "\n",
              "  <div id=\"df-94bcb328-8a05-4bb3-93ac-daa9dfd4ffa4\">\n",
              "    <div class=\"colab-df-container\">\n",
              "      <div>\n",
              "<style scoped>\n",
              "    .dataframe tbody tr th:only-of-type {\n",
              "        vertical-align: middle;\n",
              "    }\n",
              "\n",
              "    .dataframe tbody tr th {\n",
              "        vertical-align: top;\n",
              "    }\n",
              "\n",
              "    .dataframe thead th {\n",
              "        text-align: right;\n",
              "    }\n",
              "</style>\n",
              "<table border=\"1\" class=\"dataframe\">\n",
              "  <thead>\n",
              "    <tr style=\"text-align: right;\">\n",
              "      <th></th>\n",
              "      <th>Age</th>\n",
              "      <th>Gender</th>\n",
              "      <th>Stream</th>\n",
              "      <th>Internships</th>\n",
              "      <th>CGPA</th>\n",
              "      <th>HistoryOfBacklogs</th>\n",
              "      <th>PlacedOrNot</th>\n",
              "    </tr>\n",
              "  </thead>\n",
              "  <tbody>\n",
              "    <tr>\n",
              "      <th>0</th>\n",
              "      <td>22</td>\n",
              "      <td>0</td>\n",
              "      <td>3</td>\n",
              "      <td>1</td>\n",
              "      <td>8</td>\n",
              "      <td>1</td>\n",
              "      <td>1</td>\n",
              "    </tr>\n",
              "    <tr>\n",
              "      <th>1</th>\n",
              "      <td>21</td>\n",
              "      <td>1</td>\n",
              "      <td>1</td>\n",
              "      <td>0</td>\n",
              "      <td>7</td>\n",
              "      <td>1</td>\n",
              "      <td>1</td>\n",
              "    </tr>\n",
              "    <tr>\n",
              "      <th>2</th>\n",
              "      <td>22</td>\n",
              "      <td>1</td>\n",
              "      <td>4</td>\n",
              "      <td>1</td>\n",
              "      <td>6</td>\n",
              "      <td>0</td>\n",
              "      <td>1</td>\n",
              "    </tr>\n",
              "    <tr>\n",
              "      <th>3</th>\n",
              "      <td>21</td>\n",
              "      <td>0</td>\n",
              "      <td>4</td>\n",
              "      <td>0</td>\n",
              "      <td>8</td>\n",
              "      <td>1</td>\n",
              "      <td>1</td>\n",
              "    </tr>\n",
              "    <tr>\n",
              "      <th>4</th>\n",
              "      <td>22</td>\n",
              "      <td>0</td>\n",
              "      <td>5</td>\n",
              "      <td>0</td>\n",
              "      <td>8</td>\n",
              "      <td>0</td>\n",
              "      <td>1</td>\n",
              "    </tr>\n",
              "    <tr>\n",
              "      <th>...</th>\n",
              "      <td>...</td>\n",
              "      <td>...</td>\n",
              "      <td>...</td>\n",
              "      <td>...</td>\n",
              "      <td>...</td>\n",
              "      <td>...</td>\n",
              "      <td>...</td>\n",
              "    </tr>\n",
              "    <tr>\n",
              "      <th>2961</th>\n",
              "      <td>23</td>\n",
              "      <td>0</td>\n",
              "      <td>4</td>\n",
              "      <td>0</td>\n",
              "      <td>7</td>\n",
              "      <td>0</td>\n",
              "      <td>0</td>\n",
              "    </tr>\n",
              "    <tr>\n",
              "      <th>2962</th>\n",
              "      <td>23</td>\n",
              "      <td>0</td>\n",
              "      <td>5</td>\n",
              "      <td>1</td>\n",
              "      <td>7</td>\n",
              "      <td>0</td>\n",
              "      <td>0</td>\n",
              "    </tr>\n",
              "    <tr>\n",
              "      <th>2963</th>\n",
              "      <td>22</td>\n",
              "      <td>0</td>\n",
              "      <td>4</td>\n",
              "      <td>1</td>\n",
              "      <td>7</td>\n",
              "      <td>0</td>\n",
              "      <td>0</td>\n",
              "    </tr>\n",
              "    <tr>\n",
              "      <th>2964</th>\n",
              "      <td>22</td>\n",
              "      <td>0</td>\n",
              "      <td>1</td>\n",
              "      <td>1</td>\n",
              "      <td>7</td>\n",
              "      <td>0</td>\n",
              "      <td>0</td>\n",
              "    </tr>\n",
              "    <tr>\n",
              "      <th>2965</th>\n",
              "      <td>23</td>\n",
              "      <td>0</td>\n",
              "      <td>0</td>\n",
              "      <td>0</td>\n",
              "      <td>8</td>\n",
              "      <td>0</td>\n",
              "      <td>1</td>\n",
              "    </tr>\n",
              "  </tbody>\n",
              "</table>\n",
              "<p>2966 rows × 7 columns</p>\n",
              "</div>\n",
              "      <button class=\"colab-df-convert\" onclick=\"convertToInteractive('df-94bcb328-8a05-4bb3-93ac-daa9dfd4ffa4')\"\n",
              "              title=\"Convert this dataframe to an interactive table.\"\n",
              "              style=\"display:none;\">\n",
              "        \n",
              "  <svg xmlns=\"http://www.w3.org/2000/svg\" height=\"24px\"viewBox=\"0 0 24 24\"\n",
              "       width=\"24px\">\n",
              "    <path d=\"M0 0h24v24H0V0z\" fill=\"none\"/>\n",
              "    <path d=\"M18.56 5.44l.94 2.06.94-2.06 2.06-.94-2.06-.94-.94-2.06-.94 2.06-2.06.94zm-11 1L8.5 8.5l.94-2.06 2.06-.94-2.06-.94L8.5 2.5l-.94 2.06-2.06.94zm10 10l.94 2.06.94-2.06 2.06-.94-2.06-.94-.94-2.06-.94 2.06-2.06.94z\"/><path d=\"M17.41 7.96l-1.37-1.37c-.4-.4-.92-.59-1.43-.59-.52 0-1.04.2-1.43.59L10.3 9.45l-7.72 7.72c-.78.78-.78 2.05 0 2.83L4 21.41c.39.39.9.59 1.41.59.51 0 1.02-.2 1.41-.59l7.78-7.78 2.81-2.81c.8-.78.8-2.07 0-2.86zM5.41 20L4 18.59l7.72-7.72 1.47 1.35L5.41 20z\"/>\n",
              "  </svg>\n",
              "      </button>\n",
              "      \n",
              "  <style>\n",
              "    .colab-df-container {\n",
              "      display:flex;\n",
              "      flex-wrap:wrap;\n",
              "      gap: 12px;\n",
              "    }\n",
              "\n",
              "    .colab-df-convert {\n",
              "      background-color: #E8F0FE;\n",
              "      border: none;\n",
              "      border-radius: 50%;\n",
              "      cursor: pointer;\n",
              "      display: none;\n",
              "      fill: #1967D2;\n",
              "      height: 32px;\n",
              "      padding: 0 0 0 0;\n",
              "      width: 32px;\n",
              "    }\n",
              "\n",
              "    .colab-df-convert:hover {\n",
              "      background-color: #E2EBFA;\n",
              "      box-shadow: 0px 1px 2px rgba(60, 64, 67, 0.3), 0px 1px 3px 1px rgba(60, 64, 67, 0.15);\n",
              "      fill: #174EA6;\n",
              "    }\n",
              "\n",
              "    [theme=dark] .colab-df-convert {\n",
              "      background-color: #3B4455;\n",
              "      fill: #D2E3FC;\n",
              "    }\n",
              "\n",
              "    [theme=dark] .colab-df-convert:hover {\n",
              "      background-color: #434B5C;\n",
              "      box-shadow: 0px 1px 3px 1px rgba(0, 0, 0, 0.15);\n",
              "      filter: drop-shadow(0px 1px 2px rgba(0, 0, 0, 0.3));\n",
              "      fill: #FFFFFF;\n",
              "    }\n",
              "  </style>\n",
              "\n",
              "      <script>\n",
              "        const buttonEl =\n",
              "          document.querySelector('#df-94bcb328-8a05-4bb3-93ac-daa9dfd4ffa4 button.colab-df-convert');\n",
              "        buttonEl.style.display =\n",
              "          google.colab.kernel.accessAllowed ? 'block' : 'none';\n",
              "\n",
              "        async function convertToInteractive(key) {\n",
              "          const element = document.querySelector('#df-94bcb328-8a05-4bb3-93ac-daa9dfd4ffa4');\n",
              "          const dataTable =\n",
              "            await google.colab.kernel.invokeFunction('convertToInteractive',\n",
              "                                                     [key], {});\n",
              "          if (!dataTable) return;\n",
              "\n",
              "          const docLinkHtml = 'Like what you see? Visit the ' +\n",
              "            '<a target=\"_blank\" href=https://colab.research.google.com/notebooks/data_table.ipynb>data table notebook</a>'\n",
              "            + ' to learn more about interactive tables.';\n",
              "          element.innerHTML = '';\n",
              "          dataTable['output_type'] = 'display_data';\n",
              "          await google.colab.output.renderOutput(dataTable, element);\n",
              "          const docLink = document.createElement('div');\n",
              "          docLink.innerHTML = docLinkHtml;\n",
              "          element.appendChild(docLink);\n",
              "        }\n",
              "      </script>\n",
              "    </div>\n",
              "  </div>\n",
              "  "
            ]
          },
          "metadata": {},
          "execution_count": 7
        }
      ]
    },
    {
      "cell_type": "code",
      "source": [
        "print(df['Age'].value_counts(),'\\n---------\\n',\n",
        "df['Stream'].value_counts(),'\\n-------------\\n',\n",
        "df['Internships'].value_counts(),'\\n--------\\n',\n",
        "df['CGPA'].value_counts(),'\\n----------\\n',\n",
        "df['HistoryOfBacklogs'].value_counts(),'\\n----------\\n',\n",
        "df['PlacedOrNot'].value_counts())"
      ],
      "metadata": {
        "id": "FXfC9wUEpPpY",
        "colab": {
          "base_uri": "https://localhost:8080/"
        },
        "outputId": "43b3bd71-07d3-4526-b358-2dab15d22ad7"
      },
      "execution_count": 8,
      "outputs": [
        {
          "output_type": "stream",
          "name": "stdout",
          "text": [
            "21    1084\n",
            "22     941\n",
            "20     375\n",
            "23     195\n",
            "19     156\n",
            "24     131\n",
            "26      50\n",
            "25      29\n",
            "28       3\n",
            "30       1\n",
            "29       1\n",
            "Name: Age, dtype: int64 \n",
            "---------\n",
            " 1    776\n",
            "4    691\n",
            "3    424\n",
            "5    424\n",
            "2    334\n",
            "0    317\n",
            "Name: Stream, dtype: int64 \n",
            "-------------\n",
            " 0    1331\n",
            "1    1234\n",
            "2     350\n",
            "3      51\n",
            "Name: Internships, dtype: int64 \n",
            "--------\n",
            " 7    956\n",
            "8    915\n",
            "6    834\n",
            "9    165\n",
            "5     96\n",
            "Name: CGPA, dtype: int64 \n",
            "----------\n",
            " 0    2396\n",
            "1     570\n",
            "Name: HistoryOfBacklogs, dtype: int64 \n",
            "----------\n",
            " 1    1639\n",
            "0    1327\n",
            "Name: PlacedOrNot, dtype: int64\n"
          ]
        }
      ]
    },
    {
      "cell_type": "markdown",
      "source": [
        "#Visual Analysis\n",
        "##1)Univariate Analysis"
      ],
      "metadata": {
        "id": "gTZk3lyIorUa"
      }
    },
    {
      "cell_type": "code",
      "source": [
        "plt.figure(figsize=(12,12))\n",
        "for i,j in enumerate(df):\n",
        "   plt.subplot(3,3,i+1)\n",
        "   sns.distplot(df[j],color='r')"
      ],
      "metadata": {
        "colab": {
          "base_uri": "https://localhost:8080/",
          "height": 1000
        },
        "id": "nzXPhqknvjFg",
        "outputId": "151d73a3-4c96-40bf-df58-71a49238c118"
      },
      "execution_count": 9,
      "outputs": [
        {
          "output_type": "display_data",
          "data": {
            "text/plain": [
              "<Figure size 1200x1200 with 7 Axes>"
            ],
            "image/png": "[encoded data removed]"
          },
          "metadata": {}
        }
      ]
    },
    {
      "cell_type": "markdown",
      "source": [
        "##2)Bivariate Analysis"
      ],
      "metadata": {
        "id": "E_vdYeS8o2K8"
      }
    },
    {
      "cell_type": "code",
      "source": [
        "da=df.drop(['PlacedOrNot'],axis=1)\n",
        "plt.figure(figsize=(12,12))\n",
        "for i,j in enumerate(da):\n",
        "   plt.subplot(3,2,i+1)\n",
        "   sns.countplot(x=df[j],hue='PlacedOrNot',data=df)"
      ],
      "metadata": {
        "colab": {
          "base_uri": "https://localhost:8080/",
          "height": 1000
        },
        "id": "OZywdNFUwVxd",
        "outputId": "5df78ad7-7e7d-4258-e202-1753399b9091"
      },
      "execution_count": 10,
      "outputs": [
        {
          "output_type": "display_data",
          "data": {
            "text/plain": [
              "<Figure size 1200x1200 with 6 Axes>"
            ],
            "image/png": "[encoded data removed]"
          },
          "metadata": {}
        }
      ]
    },
    {
      "cell_type": "markdown",
      "source": [
        "##3)Multivariate Analysis"
      ],
      "metadata": {
        "id": "7Nd4TVKYo7gU"
      }
    },
    {
      "cell_type": "code",
      "source": [
        "sns.swarmplot(x=df['PlacedOrNot'],y=df['CGPA'],hue=df['Stream'])"
      ],
      "metadata": {
        "colab": {
          "base_uri": "https://localhost:8080/",
          "height": 467
        },
        "id": "G6BnJL9zwnLg",
        "outputId": "aa79a3fc-26bd-4a68-8e0c-9b6d273e0561"
      },
      "execution_count": 11,
      "outputs": [
        {
          "output_type": "execute_result",
          "data": {
            "text/plain": [
              "<Axes: xlabel='PlacedOrNot', ylabel='CGPA'>"
            ]
          },
          "metadata": {},
          "execution_count": 11
        },
        {
          "output_type": "display_data",
          "data": {
            "text/plain": [
              "<Figure size 640x480 with 1 Axes>"
            ],
            "image/png": "[encoded data removed]"
          },
          "metadata": {}
        }
      ]
    },
    {
      "cell_type": "markdown",
      "source": [
        "##Scaling The Data"
      ],
      "metadata": {
        "id": "mLD25HvRpEE7"
      }
    },
    {
      "cell_type": "code",
      "source": [
        "df"
      ],
      "metadata": {
        "colab": {
          "base_uri": "https://localhost:8080/",
          "height": 423
        },
        "id": "wQRDa2zE4VEA",
        "outputId": "25f844a9-412a-4bd1-f157-c227c45b449f"
      },
      "execution_count": 12,
      "outputs": [
        {
          "output_type": "execute_result",
          "data": {
            "text/plain": [
              "      Age  Gender  Stream  Internships  CGPA  HistoryOfBacklogs  PlacedOrNot\n",
              "0      22       0       3            1     8                  1            1\n",
              "1      21       1       1            0     7                  1            1\n",
              "2      22       1       4            1     6                  0            1\n",
              "3      21       0       4            0     8                  1            1\n",
              "4      22       0       5            0     8                  0            1\n",
              "...   ...     ...     ...          ...   ...                ...          ...\n",
              "2961   23       0       4            0     7                  0            0\n",
              "2962   23       0       5            1     7                  0            0\n",
              "2963   22       0       4            1     7                  0            0\n",
              "2964   22       0       1            1     7                  0            0\n",
              "2965   23       0       0            0     8                  0            1\n",
              "\n",
              "[2966 rows x 7 columns]"
            ],
            "text/html": [
              "\n",
              "  <div id=\"df-5048a345-a834-489f-8b27-3e126b57e79a\">\n",
              "    <div class=\"colab-df-container\">\n",
              "      <div>\n",
              "<style scoped>\n",
              "    .dataframe tbody tr th:only-of-type {\n",
              "        vertical-align: middle;\n",
              "    }\n",
              "\n",
              "    .dataframe tbody tr th {\n",
              "        vertical-align: top;\n",
              "    }\n",
              "\n",
              "    .dataframe thead th {\n",
              "        text-align: right;\n",
              "    }\n",
              "</style>\n",
              "<table border=\"1\" class=\"dataframe\">\n",
              "  <thead>\n",
              "    <tr style=\"text-align: right;\">\n",
              "      <th></th>\n",
              "      <th>Age</th>\n",
              "      <th>Gender</th>\n",
              "      <th>Stream</th>\n",
              "      <th>Internships</th>\n",
              "      <th>CGPA</th>\n",
              "      <th>HistoryOfBacklogs</th>\n",
              "      <th>PlacedOrNot</th>\n",
              "    </tr>\n",
              "  </thead>\n",
              "  <tbody>\n",
              "    <tr>\n",
              "      <th>0</th>\n",
              "      <td>22</td>\n",
              "      <td>0</td>\n",
              "      <td>3</td>\n",
              "      <td>1</td>\n",
              "      <td>8</td>\n",
              "      <td>1</td>\n",
              "      <td>1</td>\n",
              "    </tr>\n",
              "    <tr>\n",
              "      <th>1</th>\n",
              "      <td>21</td>\n",
              "      <td>1</td>\n",
              "      <td>1</td>\n",
              "      <td>0</td>\n",
              "      <td>7</td>\n",
              "      <td>1</td>\n",
              "      <td>1</td>\n",
              "    </tr>\n",
              "    <tr>\n",
              "      <th>2</th>\n",
              "      <td>22</td>\n",
              "      <td>1</td>\n",
              "      <td>4</td>\n",
              "      <td>1</td>\n",
              "      <td>6</td>\n",
              "      <td>0</td>\n",
              "      <td>1</td>\n",
              "    </tr>\n",
              "    <tr>\n",
              "      <th>3</th>\n",
              "      <td>21</td>\n",
              "      <td>0</td>\n",
              "      <td>4</td>\n",
              "      <td>0</td>\n",
              "      <td>8</td>\n",
              "      <td>1</td>\n",
              "      <td>1</td>\n",
              "    </tr>\n",
              "    <tr>\n",
              "      <th>4</th>\n",
              "      <td>22</td>\n",
              "      <td>0</td>\n",
              "      <td>5</td>\n",
              "      <td>0</td>\n",
              "      <td>8</td>\n",
              "      <td>0</td>\n",
              "      <td>1</td>\n",
              "    </tr>\n",
              "    <tr>\n",
              "      <th>...</th>\n",
              "      <td>...</td>\n",
              "      <td>...</td>\n",
              "      <td>...</td>\n",
              "      <td>...</td>\n",
              "      <td>...</td>\n",
              "      <td>...</td>\n",
              "      <td>...</td>\n",
              "    </tr>\n",
              "    <tr>\n",
              "      <th>2961</th>\n",
              "      <td>23</td>\n",
              "      <td>0</td>\n",
              "      <td>4</td>\n",
              "      <td>0</td>\n",
              "      <td>7</td>\n",
              "      <td>0</td>\n",
              "      <td>0</td>\n",
              "    </tr>\n",
              "    <tr>\n",
              "      <th>2962</th>\n",
              "      <td>23</td>\n",
              "      <td>0</td>\n",
              "      <td>5</td>\n",
              "      <td>1</td>\n",
              "      <td>7</td>\n",
              "      <td>0</td>\n",
              "      <td>0</td>\n",
              "    </tr>\n",
              "    <tr>\n",
              "      <th>2963</th>\n",
              "      <td>22</td>\n",
              "      <td>0</td>\n",
              "      <td>4</td>\n",
              "      <td>1</td>\n",
              "      <td>7</td>\n",
              "      <td>0</td>\n",
              "      <td>0</td>\n",
              "    </tr>\n",
              "    <tr>\n",
              "      <th>2964</th>\n",
              "      <td>22</td>\n",
              "      <td>0</td>\n",
              "      <td>1</td>\n",
              "      <td>1</td>\n",
              "      <td>7</td>\n",
              "      <td>0</td>\n",
              "      <td>0</td>\n",
              "    </tr>\n",
              "    <tr>\n",
              "      <th>2965</th>\n",
              "      <td>23</td>\n",
              "      <td>0</td>\n",
              "      <td>0</td>\n",
              "      <td>0</td>\n",
              "      <td>8</td>\n",
              "      <td>0</td>\n",
              "      <td>1</td>\n",
              "    </tr>\n",
              "  </tbody>\n",
              "</table>\n",
              "<p>2966 rows × 7 columns</p>\n",
              "</div>\n",
              "      <button class=\"colab-df-convert\" onclick=\"convertToInteractive('df-5048a345-a834-489f-8b27-3e126b57e79a')\"\n",
              "              title=\"Convert this dataframe to an interactive table.\"\n",
              "              style=\"display:none;\">\n",
              "        \n",
              "  <svg xmlns=\"http://www.w3.org/2000/svg\" height=\"24px\"viewBox=\"0 0 24 24\"\n",
              "       width=\"24px\">\n",
              "    <path d=\"M0 0h24v24H0V0z\" fill=\"none\"/>\n",
              "    <path d=\"M18.56 5.44l.94 2.06.94-2.06 2.06-.94-2.06-.94-.94-2.06-.94 2.06-2.06.94zm-11 1L8.5 8.5l.94-2.06 2.06-.94-2.06-.94L8.5 2.5l-.94 2.06-2.06.94zm10 10l.94 2.06.94-2.06 2.06-.94-2.06-.94-.94-2.06-.94 2.06-2.06.94z\"/><path d=\"M17.41 7.96l-1.37-1.37c-.4-.4-.92-.59-1.43-.59-.52 0-1.04.2-1.43.59L10.3 9.45l-7.72 7.72c-.78.78-.78 2.05 0 2.83L4 21.41c.39.39.9.59 1.41.59.51 0 1.02-.2 1.41-.59l7.78-7.78 2.81-2.81c.8-.78.8-2.07 0-2.86zM5.41 20L4 18.59l7.72-7.72 1.47 1.35L5.41 20z\"/>\n",
              "  </svg>\n",
              "      </button>\n",
              "      \n",
              "  <style>\n",
              "    .colab-df-container {\n",
              "      display:flex;\n",
              "      flex-wrap:wrap;\n",
              "      gap: 12px;\n",
              "    }\n",
              "\n",
              "    .colab-df-convert {\n",
              "      background-color: #E8F0FE;\n",
              "      border: none;\n",
              "      border-radius: 50%;\n",
              "      cursor: pointer;\n",
              "      display: none;\n",
              "      fill: #1967D2;\n",
              "      height: 32px;\n",
              "      padding: 0 0 0 0;\n",
              "      width: 32px;\n",
              "    }\n",
              "\n",
              "    .colab-df-convert:hover {\n",
              "      background-color: #E2EBFA;\n",
              "      box-shadow: 0px 1px 2px rgba(60, 64, 67, 0.3), 0px 1px 3px 1px rgba(60, 64, 67, 0.15);\n",
              "      fill: #174EA6;\n",
              "    }\n",
              "\n",
              "    [theme=dark] .colab-df-convert {\n",
              "      background-color: #3B4455;\n",
              "      fill: #D2E3FC;\n",
              "    }\n",
              "\n",
              "    [theme=dark] .colab-df-convert:hover {\n",
              "      background-color: #434B5C;\n",
              "      box-shadow: 0px 1px 3px 1px rgba(0, 0, 0, 0.15);\n",
              "      filter: drop-shadow(0px 1px 2px rgba(0, 0, 0, 0.3));\n",
              "      fill: #FFFFFF;\n",
              "    }\n",
              "  </style>\n",
              "\n",
              "      <script>\n",
              "        const buttonEl =\n",
              "          document.querySelector('#df-5048a345-a834-489f-8b27-3e126b57e79a button.colab-df-convert');\n",
              "        buttonEl.style.display =\n",
              "          google.colab.kernel.accessAllowed ? 'block' : 'none';\n",
              "\n",
              "        async function convertToInteractive(key) {\n",
              "          const element = document.querySelector('#df-5048a345-a834-489f-8b27-3e126b57e79a');\n",
              "          const dataTable =\n",
              "            await google.colab.kernel.invokeFunction('convertToInteractive',\n",
              "                                                     [key], {});\n",
              "          if (!dataTable) return;\n",
              "\n",
              "          const docLinkHtml = 'Like what you see? Visit the ' +\n",
              "            '<a target=\"_blank\" href=https://colab.research.google.com/notebooks/data_table.ipynb>data table notebook</a>'\n",
              "            + ' to learn more about interactive tables.';\n",
              "          element.innerHTML = '';\n",
              "          dataTable['output_type'] = 'display_data';\n",
              "          await google.colab.output.renderOutput(dataTable, element);\n",
              "          const docLink = document.createElement('div');\n",
              "          docLink.innerHTML = docLinkHtml;\n",
              "          element.appendChild(docLink);\n",
              "        }\n",
              "      </script>\n",
              "    </div>\n",
              "  </div>\n",
              "  "
            ]
          },
          "metadata": {},
          "execution_count": 12
        }
      ]
    },
    {
      "cell_type": "code",
      "source": [
        "cname=df.columns[:-1]\n",
        "sc=StandardScaler()\n",
        "df[cname]=sc.fit_transform(df[cname])\n",
        "df"
      ],
      "metadata": {
        "id": "IMfWMwpg317p",
        "colab": {
          "base_uri": "https://localhost:8080/",
          "height": 423
        },
        "outputId": "0ff4220b-bc10-42c5-dec6-67ed9de5142b"
      },
      "execution_count": 13,
      "outputs": [
        {
          "output_type": "execute_result",
          "data": {
            "text/plain": [
              "           Age    Gender    Stream  Internships      CGPA  HistoryOfBacklogs  \\\n",
              "0     0.388131 -0.445403  0.264655     0.400445  0.957191           2.050246   \n",
              "1    -0.366752  2.245158 -0.944846    -0.950773 -0.076310           2.050246   \n",
              "2     0.388131  2.245158  0.869405     0.400445 -1.109812          -0.487746   \n",
              "3    -0.366752 -0.445403  0.869405    -0.950773  0.957191           2.050246   \n",
              "4     0.388131 -0.445403  1.474156    -0.950773  0.957191          -0.487746   \n",
              "...        ...       ...       ...          ...       ...                ...   \n",
              "2961  1.143013 -0.445403  0.869405    -0.950773 -0.076310          -0.487746   \n",
              "2962  1.143013 -0.445403  1.474156     0.400445 -0.076310          -0.487746   \n",
              "2963  0.388131 -0.445403  0.869405     0.400445 -0.076310          -0.487746   \n",
              "2964  0.388131 -0.445403 -0.944846     0.400445 -0.076310          -0.487746   \n",
              "2965  1.143013 -0.445403 -1.549597    -0.950773  0.957191          -0.487746   \n",
              "\n",
              "      PlacedOrNot  \n",
              "0               1  \n",
              "1               1  \n",
              "2               1  \n",
              "3               1  \n",
              "4               1  \n",
              "...           ...  \n",
              "2961            0  \n",
              "2962            0  \n",
              "2963            0  \n",
              "2964            0  \n",
              "2965            1  \n",
              "\n",
              "[2966 rows x 7 columns]"
            ],
            "text/html": [
              "\n",
              "  <div id=\"df-f08ce64a-ae41-4656-a02e-20d23df43d6b\">\n",
              "    <div class=\"colab-df-container\">\n",
              "      <div>\n",
              "<style scoped>\n",
              "    .dataframe tbody tr th:only-of-type {\n",
              "        vertical-align: middle;\n",
              "    }\n",
              "\n",
              "    .dataframe tbody tr th {\n",
              "        vertical-align: top;\n",
              "    }\n",
              "\n",
              "    .dataframe thead th {\n",
              "        text-align: right;\n",
              "    }\n",
              "</style>\n",
              "<table border=\"1\" class=\"dataframe\">\n",
              "  <thead>\n",
              "    <tr style=\"text-align: right;\">\n",
              "      <th></th>\n",
              "      <th>Age</th>\n",
              "      <th>Gender</th>\n",
              "      <th>Stream</th>\n",
              "      <th>Internships</th>\n",
              "      <th>CGPA</th>\n",
              "      <th>HistoryOfBacklogs</th>\n",
              "      <th>PlacedOrNot</th>\n",
              "    </tr>\n",
              "  </thead>\n",
              "  <tbody>\n",
              "    <tr>\n",
              "      <th>0</th>\n",
              "      <td>0.388131</td>\n",
              "      <td>-0.445403</td>\n",
              "      <td>0.264655</td>\n",
              "      <td>0.400445</td>\n",
              "      <td>0.957191</td>\n",
              "      <td>2.050246</td>\n",
              "      <td>1</td>\n",
              "    </tr>\n",
              "    <tr>\n",
              "      <th>1</th>\n",
              "      <td>-0.366752</td>\n",
              "      <td>2.245158</td>\n",
              "      <td>-0.944846</td>\n",
              "      <td>-0.950773</td>\n",
              "      <td>-0.076310</td>\n",
              "      <td>2.050246</td>\n",
              "      <td>1</td>\n",
              "    </tr>\n",
              "    <tr>\n",
              "      <th>2</th>\n",
              "      <td>0.388131</td>\n",
              "      <td>2.245158</td>\n",
              "      <td>0.869405</td>\n",
              "      <td>0.400445</td>\n",
              "      <td>-1.109812</td>\n",
              "      <td>-0.487746</td>\n",
              "      <td>1</td>\n",
              "    </tr>\n",
              "    <tr>\n",
              "      <th>3</th>\n",
              "      <td>-0.366752</td>\n",
              "      <td>-0.445403</td>\n",
              "      <td>0.869405</td>\n",
              "      <td>-0.950773</td>\n",
              "      <td>0.957191</td>\n",
              "      <td>2.050246</td>\n",
              "      <td>1</td>\n",
              "    </tr>\n",
              "    <tr>\n",
              "      <th>4</th>\n",
              "      <td>0.388131</td>\n",
              "      <td>-0.445403</td>\n",
              "      <td>1.474156</td>\n",
              "      <td>-0.950773</td>\n",
              "      <td>0.957191</td>\n",
              "      <td>-0.487746</td>\n",
              "      <td>1</td>\n",
              "    </tr>\n",
              "    <tr>\n",
              "      <th>...</th>\n",
              "      <td>...</td>\n",
              "      <td>...</td>\n",
              "      <td>...</td>\n",
              "      <td>...</td>\n",
              "      <td>...</td>\n",
              "      <td>...</td>\n",
              "      <td>...</td>\n",
              "    </tr>\n",
              "    <tr>\n",
              "      <th>2961</th>\n",
              "      <td>1.143013</td>\n",
              "      <td>-0.445403</td>\n",
              "      <td>0.869405</td>\n",
              "      <td>-0.950773</td>\n",
              "      <td>-0.076310</td>\n",
              "      <td>-0.487746</td>\n",
              "      <td>0</td>\n",
              "    </tr>\n",
              "    <tr>\n",
              "      <th>2962</th>\n",
              "      <td>1.143013</td>\n",
              "      <td>-0.445403</td>\n",
              "      <td>1.474156</td>\n",
              "      <td>0.400445</td>\n",
              "      <td>-0.076310</td>\n",
              "      <td>-0.487746</td>\n",
              "      <td>0</td>\n",
              "    </tr>\n",
              "    <tr>\n",
              "      <th>2963</th>\n",
              "      <td>0.388131</td>\n",
              "      <td>-0.445403</td>\n",
              "      <td>0.869405</td>\n",
              "      <td>0.400445</td>\n",
              "      <td>-0.076310</td>\n",
              "      <td>-0.487746</td>\n",
              "      <td>0</td>\n",
              "    </tr>\n",
              "    <tr>\n",
              "      <th>2964</th>\n",
              "      <td>0.388131</td>\n",
              "      <td>-0.445403</td>\n",
              "      <td>-0.944846</td>\n",
              "      <td>0.400445</td>\n",
              "      <td>-0.076310</td>\n",
              "      <td>-0.487746</td>\n",
              "      <td>0</td>\n",
              "    </tr>\n",
              "    <tr>\n",
              "      <th>2965</th>\n",
              "      <td>1.143013</td>\n",
              "      <td>-0.445403</td>\n",
              "      <td>-1.549597</td>\n",
              "      <td>-0.950773</td>\n",
              "      <td>0.957191</td>\n",
              "      <td>-0.487746</td>\n",
              "      <td>1</td>\n",
              "    </tr>\n",
              "  </tbody>\n",
              "</table>\n",
              "<p>2966 rows × 7 columns</p>\n",
              "</div>\n",
              "      <button class=\"colab-df-convert\" onclick=\"convertToInteractive('df-f08ce64a-ae41-4656-a02e-20d23df43d6b')\"\n",
              "              title=\"Convert this dataframe to an interactive table.\"\n",
              "              style=\"display:none;\">\n",
              "        \n",
              "  <svg xmlns=\"http://www.w3.org/2000/svg\" height=\"24px\"viewBox=\"0 0 24 24\"\n",
              "       width=\"24px\">\n",
              "    <path d=\"M0 0h24v24H0V0z\" fill=\"none\"/>\n",
              "    <path d=\"M18.56 5.44l.94 2.06.94-2.06 2.06-.94-2.06-.94-.94-2.06-.94 2.06-2.06.94zm-11 1L8.5 8.5l.94-2.06 2.06-.94-2.06-.94L8.5 2.5l-.94 2.06-2.06.94zm10 10l.94 2.06.94-2.06 2.06-.94-2.06-.94-.94-2.06-.94 2.06-2.06.94z\"/><path d=\"M17.41 7.96l-1.37-1.37c-.4-.4-.92-.59-1.43-.59-.52 0-1.04.2-1.43.59L10.3 9.45l-7.72 7.72c-.78.78-.78 2.05 0 2.83L4 21.41c.39.39.9.59 1.41.59.51 0 1.02-.2 1.41-.59l7.78-7.78 2.81-2.81c.8-.78.8-2.07 0-2.86zM5.41 20L4 18.59l7.72-7.72 1.47 1.35L5.41 20z\"/>\n",
              "  </svg>\n",
              "      </button>\n",
              "      \n",
              "  <style>\n",
              "    .colab-df-container {\n",
              "      display:flex;\n",
              "      flex-wrap:wrap;\n",
              "      gap: 12px;\n",
              "    }\n",
              "\n",
              "    .colab-df-convert {\n",
              "      background-color: #E8F0FE;\n",
              "      border: none;\n",
              "      border-radius: 50%;\n",
              "      cursor: pointer;\n",
              "      display: none;\n",
              "      fill: #1967D2;\n",
              "      height: 32px;\n",
              "      padding: 0 0 0 0;\n",
              "      width: 32px;\n",
              "    }\n",
              "\n",
              "    .colab-df-convert:hover {\n",
              "      background-color: #E2EBFA;\n",
              "      box-shadow: 0px 1px 2px rgba(60, 64, 67, 0.3), 0px 1px 3px 1px rgba(60, 64, 67, 0.15);\n",
              "      fill: #174EA6;\n",
              "    }\n",
              "\n",
              "    [theme=dark] .colab-df-convert {\n",
              "      background-color: #3B4455;\n",
              "      fill: #D2E3FC;\n",
              "    }\n",
              "\n",
              "    [theme=dark] .colab-df-convert:hover {\n",
              "      background-color: #434B5C;\n",
              "      box-shadow: 0px 1px 3px 1px rgba(0, 0, 0, 0.15);\n",
              "      filter: drop-shadow(0px 1px 2px rgba(0, 0, 0, 0.3));\n",
              "      fill: #FFFFFF;\n",
              "    }\n",
              "  </style>\n",
              "\n",
              "      <script>\n",
              "        const buttonEl =\n",
              "          document.querySelector('#df-f08ce64a-ae41-4656-a02e-20d23df43d6b button.colab-df-convert');\n",
              "        buttonEl.style.display =\n",
              "          google.colab.kernel.accessAllowed ? 'block' : 'none';\n",
              "\n",
              "        async function convertToInteractive(key) {\n",
              "          const element = document.querySelector('#df-f08ce64a-ae41-4656-a02e-20d23df43d6b');\n",
              "          const dataTable =\n",
              "            await google.colab.kernel.invokeFunction('convertToInteractive',\n",
              "                                                     [key], {});\n",
              "          if (!dataTable) return;\n",
              "\n",
              "          const docLinkHtml = 'Like what you see? Visit the ' +\n",
              "            '<a target=\"_blank\" href=https://colab.research.google.com/notebooks/data_table.ipynb>data table notebook</a>'\n",
              "            + ' to learn more about interactive tables.';\n",
              "          element.innerHTML = '';\n",
              "          dataTable['output_type'] = 'display_data';\n",
              "          await google.colab.output.renderOutput(dataTable, element);\n",
              "          const docLink = document.createElement('div');\n",
              "          docLink.innerHTML = docLinkHtml;\n",
              "          element.appendChild(docLink);\n",
              "        }\n",
              "      </script>\n",
              "    </div>\n",
              "  </div>\n",
              "  "
            ]
          },
          "metadata": {},
          "execution_count": 13
        }
      ]
    },
    {
      "cell_type": "code",
      "source": [
        "x_bal=sc.fit_transform(df[cname])\n",
        "x_bal=pd.DataFrame(x_bal,columns=cname)\n",
        "x_bal"
      ],
      "metadata": {
        "colab": {
          "base_uri": "https://localhost:8080/",
          "height": 423
        },
        "id": "i17Xv1xiOK_x",
        "outputId": "26c1066d-3ec5-4ad8-8ee7-526b3a7f7480"
      },
      "execution_count": 14,
      "outputs": [
        {
          "output_type": "execute_result",
          "data": {
            "text/plain": [
              "           Age    Gender    Stream  Internships      CGPA  HistoryOfBacklogs\n",
              "0     0.388131 -0.445403  0.264655     0.400445  0.957191           2.050246\n",
              "1    -0.366752  2.245158 -0.944846    -0.950773 -0.076310           2.050246\n",
              "2     0.388131  2.245158  0.869405     0.400445 -1.109812          -0.487746\n",
              "3    -0.366752 -0.445403  0.869405    -0.950773  0.957191           2.050246\n",
              "4     0.388131 -0.445403  1.474156    -0.950773  0.957191          -0.487746\n",
              "...        ...       ...       ...          ...       ...                ...\n",
              "2961  1.143013 -0.445403  0.869405    -0.950773 -0.076310          -0.487746\n",
              "2962  1.143013 -0.445403  1.474156     0.400445 -0.076310          -0.487746\n",
              "2963  0.388131 -0.445403  0.869405     0.400445 -0.076310          -0.487746\n",
              "2964  0.388131 -0.445403 -0.944846     0.400445 -0.076310          -0.487746\n",
              "2965  1.143013 -0.445403 -1.549597    -0.950773  0.957191          -0.487746\n",
              "\n",
              "[2966 rows x 6 columns]"
            ],
            "text/html": [
              "\n",
              "  <div id=\"df-1bb1c66b-b1a9-4839-bbff-8370be1b2c7d\">\n",
              "    <div class=\"colab-df-container\">\n",
              "      <div>\n",
              "<style scoped>\n",
              "    .dataframe tbody tr th:only-of-type {\n",
              "        vertical-align: middle;\n",
              "    }\n",
              "\n",
              "    .dataframe tbody tr th {\n",
              "        vertical-align: top;\n",
              "    }\n",
              "\n",
              "    .dataframe thead th {\n",
              "        text-align: right;\n",
              "    }\n",
              "</style>\n",
              "<table border=\"1\" class=\"dataframe\">\n",
              "  <thead>\n",
              "    <tr style=\"text-align: right;\">\n",
              "      <th></th>\n",
              "      <th>Age</th>\n",
              "      <th>Gender</th>\n",
              "      <th>Stream</th>\n",
              "      <th>Internships</th>\n",
              "      <th>CGPA</th>\n",
              "      <th>HistoryOfBacklogs</th>\n",
              "    </tr>\n",
              "  </thead>\n",
              "  <tbody>\n",
              "    <tr>\n",
              "      <th>0</th>\n",
              "      <td>0.388131</td>\n",
              "      <td>-0.445403</td>\n",
              "      <td>0.264655</td>\n",
              "      <td>0.400445</td>\n",
              "      <td>0.957191</td>\n",
              "      <td>2.050246</td>\n",
              "    </tr>\n",
              "    <tr>\n",
              "      <th>1</th>\n",
              "      <td>-0.366752</td>\n",
              "      <td>2.245158</td>\n",
              "      <td>-0.944846</td>\n",
              "      <td>-0.950773</td>\n",
              "      <td>-0.076310</td>\n",
              "      <td>2.050246</td>\n",
              "    </tr>\n",
              "    <tr>\n",
              "      <th>2</th>\n",
              "      <td>0.388131</td>\n",
              "      <td>2.245158</td>\n",
              "      <td>0.869405</td>\n",
              "      <td>0.400445</td>\n",
              "      <td>-1.109812</td>\n",
              "      <td>-0.487746</td>\n",
              "    </tr>\n",
              "    <tr>\n",
              "      <th>3</th>\n",
              "      <td>-0.366752</td>\n",
              "      <td>-0.445403</td>\n",
              "      <td>0.869405</td>\n",
              "      <td>-0.950773</td>\n",
              "      <td>0.957191</td>\n",
              "      <td>2.050246</td>\n",
              "    </tr>\n",
              "    <tr>\n",
              "      <th>4</th>\n",
              "      <td>0.388131</td>\n",
              "      <td>-0.445403</td>\n",
              "      <td>1.474156</td>\n",
              "      <td>-0.950773</td>\n",
              "      <td>0.957191</td>\n",
              "      <td>-0.487746</td>\n",
              "    </tr>\n",
              "    <tr>\n",
              "      <th>...</th>\n",
              "      <td>...</td>\n",
              "      <td>...</td>\n",
              "      <td>...</td>\n",
              "      <td>...</td>\n",
              "      <td>...</td>\n",
              "      <td>...</td>\n",
              "    </tr>\n",
              "    <tr>\n",
              "      <th>2961</th>\n",
              "      <td>1.143013</td>\n",
              "      <td>-0.445403</td>\n",
              "      <td>0.869405</td>\n",
              "      <td>-0.950773</td>\n",
              "      <td>-0.076310</td>\n",
              "      <td>-0.487746</td>\n",
              "    </tr>\n",
              "    <tr>\n",
              "      <th>2962</th>\n",
              "      <td>1.143013</td>\n",
              "      <td>-0.445403</td>\n",
              "      <td>1.474156</td>\n",
              "      <td>0.400445</td>\n",
              "      <td>-0.076310</td>\n",
              "      <td>-0.487746</td>\n",
              "    </tr>\n",
              "    <tr>\n",
              "      <th>2963</th>\n",
              "      <td>0.388131</td>\n",
              "      <td>-0.445403</td>\n",
              "      <td>0.869405</td>\n",
              "      <td>0.400445</td>\n",
              "      <td>-0.076310</td>\n",
              "      <td>-0.487746</td>\n",
              "    </tr>\n",
              "    <tr>\n",
              "      <th>2964</th>\n",
              "      <td>0.388131</td>\n",
              "      <td>-0.445403</td>\n",
              "      <td>-0.944846</td>\n",
              "      <td>0.400445</td>\n",
              "      <td>-0.076310</td>\n",
              "      <td>-0.487746</td>\n",
              "    </tr>\n",
              "    <tr>\n",
              "      <th>2965</th>\n",
              "      <td>1.143013</td>\n",
              "      <td>-0.445403</td>\n",
              "      <td>-1.549597</td>\n",
              "      <td>-0.950773</td>\n",
              "      <td>0.957191</td>\n",
              "      <td>-0.487746</td>\n",
              "    </tr>\n",
              "  </tbody>\n",
              "</table>\n",
              "<p>2966 rows × 6 columns</p>\n",
              "</div>\n",
              "      <button class=\"colab-df-convert\" onclick=\"convertToInteractive('df-1bb1c66b-b1a9-4839-bbff-8370be1b2c7d')\"\n",
              "              title=\"Convert this dataframe to an interactive table.\"\n",
              "              style=\"display:none;\">\n",
              "        \n",
              "  <svg xmlns=\"http://www.w3.org/2000/svg\" height=\"24px\"viewBox=\"0 0 24 24\"\n",
              "       width=\"24px\">\n",
              "    <path d=\"M0 0h24v24H0V0z\" fill=\"none\"/>\n",
              "    <path d=\"M18.56 5.44l.94 2.06.94-2.06 2.06-.94-2.06-.94-.94-2.06-.94 2.06-2.06.94zm-11 1L8.5 8.5l.94-2.06 2.06-.94-2.06-.94L8.5 2.5l-.94 2.06-2.06.94zm10 10l.94 2.06.94-2.06 2.06-.94-2.06-.94-.94-2.06-.94 2.06-2.06.94z\"/><path d=\"M17.41 7.96l-1.37-1.37c-.4-.4-.92-.59-1.43-.59-.52 0-1.04.2-1.43.59L10.3 9.45l-7.72 7.72c-.78.78-.78 2.05 0 2.83L4 21.41c.39.39.9.59 1.41.59.51 0 1.02-.2 1.41-.59l7.78-7.78 2.81-2.81c.8-.78.8-2.07 0-2.86zM5.41 20L4 18.59l7.72-7.72 1.47 1.35L5.41 20z\"/>\n",
              "  </svg>\n",
              "      </button>\n",
              "      \n",
              "  <style>\n",
              "    .colab-df-container {\n",
              "      display:flex;\n",
              "      flex-wrap:wrap;\n",
              "      gap: 12px;\n",
              "    }\n",
              "\n",
              "    .colab-df-convert {\n",
              "      background-color: #E8F0FE;\n",
              "      border: none;\n",
              "      border-radius: 50%;\n",
              "      cursor: pointer;\n",
              "      display: none;\n",
              "      fill: #1967D2;\n",
              "      height: 32px;\n",
              "      padding: 0 0 0 0;\n",
              "      width: 32px;\n",
              "    }\n",
              "\n",
              "    .colab-df-convert:hover {\n",
              "      background-color: #E2EBFA;\n",
              "      box-shadow: 0px 1px 2px rgba(60, 64, 67, 0.3), 0px 1px 3px 1px rgba(60, 64, 67, 0.15);\n",
              "      fill: #174EA6;\n",
              "    }\n",
              "\n",
              "    [theme=dark] .colab-df-convert {\n",
              "      background-color: #3B4455;\n",
              "      fill: #D2E3FC;\n",
              "    }\n",
              "\n",
              "    [theme=dark] .colab-df-convert:hover {\n",
              "      background-color: #434B5C;\n",
              "      box-shadow: 0px 1px 3px 1px rgba(0, 0, 0, 0.15);\n",
              "      filter: drop-shadow(0px 1px 2px rgba(0, 0, 0, 0.3));\n",
              "      fill: #FFFFFF;\n",
              "    }\n",
              "  </style>\n",
              "\n",
              "      <script>\n",
              "        const buttonEl =\n",
              "          document.querySelector('#df-1bb1c66b-b1a9-4839-bbff-8370be1b2c7d button.colab-df-convert');\n",
              "        buttonEl.style.display =\n",
              "          google.colab.kernel.accessAllowed ? 'block' : 'none';\n",
              "\n",
              "        async function convertToInteractive(key) {\n",
              "          const element = document.querySelector('#df-1bb1c66b-b1a9-4839-bbff-8370be1b2c7d');\n",
              "          const dataTable =\n",
              "            await google.colab.kernel.invokeFunction('convertToInteractive',\n",
              "                                                     [key], {});\n",
              "          if (!dataTable) return;\n",
              "\n",
              "          const docLinkHtml = 'Like what you see? Visit the ' +\n",
              "            '<a target=\"_blank\" href=https://colab.research.google.com/notebooks/data_table.ipynb>data table notebook</a>'\n",
              "            + ' to learn more about interactive tables.';\n",
              "          element.innerHTML = '';\n",
              "          dataTable['output_type'] = 'display_data';\n",
              "          await google.colab.output.renderOutput(dataTable, element);\n",
              "          const docLink = document.createElement('div');\n",
              "          docLink.innerHTML = docLinkHtml;\n",
              "          element.appendChild(docLink);\n",
              "        }\n",
              "      </script>\n",
              "    </div>\n",
              "  </div>\n",
              "  "
            ]
          },
          "metadata": {},
          "execution_count": 14
        }
      ]
    },
    {
      "cell_type": "markdown",
      "source": [
        "##Splitting The Data Into Train And Test"
      ],
      "metadata": {
        "id": "WT16zuWApNQl"
      }
    },
    {
      "cell_type": "code",
      "source": [
        "x=x_bal\n",
        "y=df['PlacedOrNot']\n",
        "x_train,x_test,y_train,y_test=train_test_split(x,y,test_size=0.2,stratify=y,random_state=99)\n",
        "print(x_train)\n",
        "print(y_train)\n",
        "print(x_test)\n",
        "print(x_test)"
      ],
      "metadata": {
        "colab": {
          "base_uri": "https://localhost:8080/"
        },
        "id": "Z_JCV-tQQBti",
        "outputId": "9a69280b-ec80-467d-ed5c-c8e8a42dfb5b"
      },
      "execution_count": 15,
      "outputs": [
        {
          "output_type": "stream",
          "name": "stdout",
          "text": [
            "           Age    Gender    Stream  Internships      CGPA  HistoryOfBacklogs\n",
            "2527 -1.121634  2.245158 -0.944846    -0.950773 -1.109812           2.050246\n",
            "352  -0.366752 -0.445403  1.474156    -0.950773 -0.076310          -0.487746\n",
            "993   0.388131 -0.445403 -0.944846     0.400445 -0.076310          -0.487746\n",
            "492  -0.366752 -0.445403  0.869405     0.400445  0.957191          -0.487746\n",
            "1552  1.143013 -0.445403  0.869405    -0.950773  0.957191          -0.487746\n",
            "...        ...       ...       ...          ...       ...                ...\n",
            "911  -0.366752 -0.445403 -0.340096    -0.950773 -1.109812          -0.487746\n",
            "2606 -1.121634 -0.445403 -1.549597     1.751664  1.990692          -0.487746\n",
            "1668 -0.366752 -0.445403  0.869405     0.400445 -1.109812          -0.487746\n",
            "2358 -0.366752 -0.445403  0.264655     0.400445  0.957191           2.050246\n",
            "271   0.388131 -0.445403  0.869405     0.400445 -0.076310           2.050246\n",
            "\n",
            "[2372 rows x 6 columns]\n",
            "2527    0\n",
            "352     1\n",
            "993     1\n",
            "492     1\n",
            "1552    1\n",
            "       ..\n",
            "911     0\n",
            "2606    1\n",
            "1668    0\n",
            "2358    1\n",
            "271     0\n",
            "Name: PlacedOrNot, Length: 2372, dtype: int64\n",
            "           Age    Gender    Stream  Internships      CGPA  HistoryOfBacklogs\n",
            "242  -0.366752 -0.445403  0.869405     1.751664  0.957191          -0.487746\n",
            "2635 -1.121634 -0.445403 -1.549597     0.400445  1.990692          -0.487746\n",
            "781   0.388131 -0.445403 -0.340096    -0.950773 -0.076310          -0.487746\n",
            "2313 -1.121634 -0.445403  0.264655     0.400445 -1.109812          -0.487746\n",
            "651  -0.366752 -0.445403  0.264655     0.400445 -0.076310          -0.487746\n",
            "...        ...       ...       ...          ...       ...                ...\n",
            "1031  0.388131 -0.445403 -0.944846     1.751664 -0.076310          -0.487746\n",
            "1844 -0.366752 -0.445403 -0.944846     0.400445 -1.109812          -0.487746\n",
            "1196 -0.366752 -0.445403 -0.944846     0.400445 -0.076310          -0.487746\n",
            "1515  1.897895 -0.445403 -0.944846     0.400445 -1.109812          -0.487746\n",
            "844   0.388131 -0.445403  0.264655     0.400445 -1.109812           2.050246\n",
            "\n",
            "[594 rows x 6 columns]\n",
            "           Age    Gender    Stream  Internships      CGPA  HistoryOfBacklogs\n",
            "242  -0.366752 -0.445403  0.869405     1.751664  0.957191          -0.487746\n",
            "2635 -1.121634 -0.445403 -1.549597     0.400445  1.990692          -0.487746\n",
            "781   0.388131 -0.445403 -0.340096    -0.950773 -0.076310          -0.487746\n",
            "2313 -1.121634 -0.445403  0.264655     0.400445 -1.109812          -0.487746\n",
            "651  -0.366752 -0.445403  0.264655     0.400445 -0.076310          -0.487746\n",
            "...        ...       ...       ...          ...       ...                ...\n",
            "1031  0.388131 -0.445403 -0.944846     1.751664 -0.076310          -0.487746\n",
            "1844 -0.366752 -0.445403 -0.944846     0.400445 -1.109812          -0.487746\n",
            "1196 -0.366752 -0.445403 -0.944846     0.400445 -0.076310          -0.487746\n",
            "1515  1.897895 -0.445403 -0.944846     0.400445 -1.109812          -0.487746\n",
            "844   0.388131 -0.445403  0.264655     0.400445 -1.109812           2.050246\n",
            "\n",
            "[594 rows x 6 columns]\n"
          ]
        }
      ]
    },
    {
      "cell_type": "markdown",
      "source": [
        "#Training The Model In Multiple Algorithms\n",
        "##1)SVM Model"
      ],
      "metadata": {
        "id": "1N9vSwofpUjm"
      }
    },
    {
      "cell_type": "code",
      "source": [
        "classifier=svm.SVC(kernel='linear')\n",
        "classifier.fit(x_train,y_train)\n",
        "x_train_prediction=classifier.predict(x_train)\n",
        "training_data_accuracy=accuracy_score(x_train_prediction,y_train)\n",
        "print('Accuracy score of the training data:',training_data_accuracy)"
      ],
      "metadata": {
        "colab": {
          "base_uri": "https://localhost:8080/"
        },
        "id": "09kVT_3aRTJd",
        "outputId": "e05d0f04-9bb3-44a9-8f0c-d2475d92c2d1"
      },
      "execution_count": 16,
      "outputs": [
        {
          "output_type": "stream",
          "name": "stdout",
          "text": [
            "Accuracy score of the training data: 0.7643338954468802\n"
          ]
        }
      ]
    },
    {
      "cell_type": "code",
      "source": [
        "print(classification_report(y_test,classifier.predict(x_test)))\n",
        "confusion_matrix(y_test,classifier.predict(x_test))"
      ],
      "metadata": {
        "colab": {
          "base_uri": "https://localhost:8080/"
        },
        "id": "cmkiC9vGdoh2",
        "outputId": "517f8598-3b27-44e0-f621-0efa44b08f43"
      },
      "execution_count": 17,
      "outputs": [
        {
          "output_type": "stream",
          "name": "stdout",
          "text": [
            "              precision    recall  f1-score   support\n",
            "\n",
            "           0       0.75      0.79      0.77       266\n",
            "           1       0.82      0.78      0.80       328\n",
            "\n",
            "    accuracy                           0.79       594\n",
            "   macro avg       0.78      0.79      0.78       594\n",
            "weighted avg       0.79      0.79      0.79       594\n",
            "\n"
          ]
        },
        {
          "output_type": "execute_result",
          "data": {
            "text/plain": [
              "array([[211,  55],\n",
              "       [ 72, 256]])"
            ]
          },
          "metadata": {},
          "execution_count": 17
        }
      ]
    },
    {
      "cell_type": "code",
      "source": [
        "classifier.predict([[23,0,0,0,4,0]])\n"
      ],
      "metadata": {
        "colab": {
          "base_uri": "https://localhost:8080/"
        },
        "id": "T0x_OqvOfnLU",
        "outputId": "f203c852-1f21-4c19-8bbd-487627956184"
      },
      "execution_count": 18,
      "outputs": [
        {
          "output_type": "execute_result",
          "data": {
            "text/plain": [
              "array([1])"
            ]
          },
          "metadata": {},
          "execution_count": 18
        }
      ]
    },
    {
      "cell_type": "markdown",
      "source": [
        "##2)KNN Model"
      ],
      "metadata": {
        "id": "wbyFg003pilG"
      }
    },
    {
      "cell_type": "code",
      "source": [
        "best_k={\"Regular\":0}\n",
        "best_score={\"Regular\":0}\n",
        "for k in range(3,50,2):\n",
        "  knn_temp=KNeighborsClassifier(n_neighbors=k)\n",
        "  knn_temp.fit(x_train,y_train)\n",
        "  knn_temp_pred=knn_temp.predict(x_test)\n",
        "  score=metrics.accuracy_score(y_test,knn_temp_pred)*100\n",
        "  if score>=best_score[\"Regular\"] and score<100:\n",
        "    best_score[\"Regular\"]=score\n",
        "    best_k[\"Regular\"]=k\n",
        "print(\"----Result-----\\nk:{}\\nScore:{}\".format(best_k,best_score))\n",
        "knn=KNeighborsClassifier(n_neighbors=best_k[\"Regular\"])\n",
        "knn.fit(x_train,y_train)\n",
        "testd=accuracy_score(knn_temp_pred,y_test)"
      ],
      "metadata": {
        "colab": {
          "base_uri": "https://localhost:8080/"
        },
        "id": "cCgF04b0UPNs",
        "outputId": "13bbe076-b7ec-4597-8296-01a2f2fe98fa"
      },
      "execution_count": 19,
      "outputs": [
        {
          "output_type": "stream",
          "name": "stdout",
          "text": [
            "----Result-----\n",
            "k:{'Regular': 13}\n",
            "Score:{'Regular': 89.05723905723906}\n"
          ]
        }
      ]
    },
    {
      "cell_type": "code",
      "source": [
        "print(classification_report(y_test,knn.predict(x_test)))\n",
        "confusion_matrix(y_test,knn.predict(x_test))"
      ],
      "metadata": {
        "colab": {
          "base_uri": "https://localhost:8080/"
        },
        "id": "EglYqKrVeB5w",
        "outputId": "2df1a4c1-47ef-426f-e8fa-5d2fc23858f4"
      },
      "execution_count": 20,
      "outputs": [
        {
          "output_type": "stream",
          "name": "stdout",
          "text": [
            "              precision    recall  f1-score   support\n",
            "\n",
            "           0       0.83      0.95      0.89       266\n",
            "           1       0.96      0.84      0.89       328\n",
            "\n",
            "    accuracy                           0.89       594\n",
            "   macro avg       0.89      0.90      0.89       594\n",
            "weighted avg       0.90      0.89      0.89       594\n",
            "\n"
          ]
        },
        {
          "output_type": "execute_result",
          "data": {
            "text/plain": [
              "array([[253,  13],\n",
              "       [ 52, 276]])"
            ]
          },
          "metadata": {},
          "execution_count": 20
        }
      ]
    },
    {
      "cell_type": "code",
      "source": [
        "\n",
        "knn.predict([[23,0,4,1,6,0]])"
      ],
      "metadata": {
        "colab": {
          "base_uri": "https://localhost:8080/"
        },
        "id": "N_jCaQcPgWSR",
        "outputId": "03473442-9dcc-43d8-ec88-fb071a2d22fd"
      },
      "execution_count": 21,
      "outputs": [
        {
          "output_type": "execute_result",
          "data": {
            "text/plain": [
              "array([1])"
            ]
          },
          "metadata": {},
          "execution_count": 21
        }
      ]
    },
    {
      "cell_type": "markdown",
      "source": [
        "##3)Artificial Neural Network Model(ANN)"
      ],
      "metadata": {
        "id": "gcc1w6RApoOA"
      }
    },
    {
      "cell_type": "code",
      "source": [
        "import tensorflow as tf\n",
        "from tensorflow import keras\n",
        "from keras.models import Sequential\n",
        "from tensorflow.keras import layers"
      ],
      "metadata": {
        "id": "_WuxTj8IUY_t"
      },
      "execution_count": 22,
      "outputs": []
    },
    {
      "cell_type": "code",
      "source": [
        "classifier=Sequential()\n",
        "classifier.add(keras.layers.Dense(6,activation='relu',input_dim=6))\n",
        "classifier.add(keras.layers.Dropout(0.50))\n",
        "classifier.add(keras.layers.Dense(6,activation='relu'))\n",
        "classifier.add(keras.layers.Dropout(0.50))\n",
        "classifier.add(keras.layers.Dense(1,activation='sigmoid'))\n",
        "loss_1=tf.keras.losses.BinaryCrossentropy()\n",
        "classifier.compile(optimizer='Adam',loss=loss_1,metrics=['accuracy'])\n",
        "classifier.fit(x_train,y_train,batch_size=20,epochs=100)"
      ],
      "metadata": {
        "colab": {
          "base_uri": "https://localhost:8080/"
        },
        "id": "7J3zoqdvVDvy",
        "outputId": "e09568dd-337a-49d3-9352-93c0fb5c2633"
      },
      "execution_count": 23,
      "outputs": [
        {
          "output_type": "stream",
          "name": "stdout",
          "text": [
            "Epoch 1/100\n",
            "119/119 [==============================] - 1s 2ms/step - loss: 0.7429 - accuracy: 0.5240\n",
            "Epoch 2/100\n",
            "119/119 [==============================] - 0s 2ms/step - loss: 0.6983 - accuracy: 0.5603\n",
            "Epoch 3/100\n",
            "119/119 [==============================] - 0s 2ms/step - loss: 0.6868 - accuracy: 0.5759\n",
            "Epoch 4/100\n",
            "119/119 [==============================] - 0s 2ms/step - loss: 0.6757 - accuracy: 0.5755\n",
            "Epoch 5/100\n",
            "119/119 [==============================] - 0s 2ms/step - loss: 0.6617 - accuracy: 0.5738\n",
            "Epoch 6/100\n",
            "119/119 [==============================] - 0s 2ms/step - loss: 0.6586 - accuracy: 0.5772\n",
            "Epoch 7/100\n",
            "119/119 [==============================] - 0s 2ms/step - loss: 0.6442 - accuracy: 0.5936\n",
            "Epoch 8/100\n",
            "119/119 [==============================] - 0s 2ms/step - loss: 0.6342 - accuracy: 0.6075\n",
            "Epoch 9/100\n",
            "119/119 [==============================] - 0s 2ms/step - loss: 0.6140 - accuracy: 0.6185\n",
            "Epoch 10/100\n",
            "119/119 [==============================] - 0s 2ms/step - loss: 0.6062 - accuracy: 0.6336\n",
            "Epoch 11/100\n",
            "119/119 [==============================] - 0s 2ms/step - loss: 0.5867 - accuracy: 0.6543\n",
            "Epoch 12/100\n",
            "119/119 [==============================] - 0s 2ms/step - loss: 0.5647 - accuracy: 0.6699\n",
            "Epoch 13/100\n",
            "119/119 [==============================] - 0s 2ms/step - loss: 0.5708 - accuracy: 0.6712\n",
            "Epoch 14/100\n",
            "119/119 [==============================] - 0s 2ms/step - loss: 0.5528 - accuracy: 0.6648\n",
            "Epoch 15/100\n",
            "119/119 [==============================] - 0s 2ms/step - loss: 0.5409 - accuracy: 0.6906\n",
            "Epoch 16/100\n",
            "119/119 [==============================] - 0s 2ms/step - loss: 0.5284 - accuracy: 0.6981\n",
            "Epoch 17/100\n",
            "119/119 [==============================] - 0s 2ms/step - loss: 0.5342 - accuracy: 0.6813\n",
            "Epoch 18/100\n",
            "119/119 [==============================] - 0s 2ms/step - loss: 0.5221 - accuracy: 0.6965\n",
            "Epoch 19/100\n",
            "119/119 [==============================] - 0s 2ms/step - loss: 0.5012 - accuracy: 0.7133\n",
            "Epoch 20/100\n",
            "119/119 [==============================] - 0s 2ms/step - loss: 0.5020 - accuracy: 0.7167\n",
            "Epoch 21/100\n",
            "119/119 [==============================] - 0s 2ms/step - loss: 0.4947 - accuracy: 0.7323\n",
            "Epoch 22/100\n",
            "119/119 [==============================] - 0s 2ms/step - loss: 0.4933 - accuracy: 0.7251\n",
            "Epoch 23/100\n",
            "119/119 [==============================] - 0s 2ms/step - loss: 0.4794 - accuracy: 0.7255\n",
            "Epoch 24/100\n",
            "119/119 [==============================] - 0s 2ms/step - loss: 0.4896 - accuracy: 0.7327\n",
            "Epoch 25/100\n",
            "119/119 [==============================] - 0s 2ms/step - loss: 0.4903 - accuracy: 0.7171\n",
            "Epoch 26/100\n",
            "119/119 [==============================] - 0s 2ms/step - loss: 0.4767 - accuracy: 0.7496\n",
            "Epoch 27/100\n",
            "119/119 [==============================] - 0s 2ms/step - loss: 0.4815 - accuracy: 0.7365\n",
            "Epoch 28/100\n",
            "119/119 [==============================] - 0s 2ms/step - loss: 0.4807 - accuracy: 0.7407\n",
            "Epoch 29/100\n",
            "119/119 [==============================] - 0s 2ms/step - loss: 0.4830 - accuracy: 0.7352\n",
            "Epoch 30/100\n",
            "119/119 [==============================] - 0s 2ms/step - loss: 0.4783 - accuracy: 0.7365\n",
            "Epoch 31/100\n",
            "119/119 [==============================] - 0s 2ms/step - loss: 0.4806 - accuracy: 0.7361\n",
            "Epoch 32/100\n",
            "119/119 [==============================] - 0s 2ms/step - loss: 0.4808 - accuracy: 0.7521\n",
            "Epoch 33/100\n",
            "119/119 [==============================] - 0s 2ms/step - loss: 0.4795 - accuracy: 0.7479\n",
            "Epoch 34/100\n",
            "119/119 [==============================] - 0s 2ms/step - loss: 0.4803 - accuracy: 0.7395\n",
            "Epoch 35/100\n",
            "119/119 [==============================] - 0s 2ms/step - loss: 0.4791 - accuracy: 0.7374\n",
            "Epoch 36/100\n",
            "119/119 [==============================] - 0s 2ms/step - loss: 0.4768 - accuracy: 0.7357\n",
            "Epoch 37/100\n",
            "119/119 [==============================] - 0s 2ms/step - loss: 0.4790 - accuracy: 0.7352\n",
            "Epoch 38/100\n",
            "119/119 [==============================] - 0s 2ms/step - loss: 0.4804 - accuracy: 0.7403\n",
            "Epoch 39/100\n",
            "119/119 [==============================] - 0s 2ms/step - loss: 0.4772 - accuracy: 0.7352\n",
            "Epoch 40/100\n",
            "119/119 [==============================] - 0s 2ms/step - loss: 0.4756 - accuracy: 0.7319\n",
            "Epoch 41/100\n",
            "119/119 [==============================] - 0s 2ms/step - loss: 0.4834 - accuracy: 0.7289\n",
            "Epoch 42/100\n",
            "119/119 [==============================] - 0s 2ms/step - loss: 0.4778 - accuracy: 0.7399\n",
            "Epoch 43/100\n",
            "119/119 [==============================] - 0s 2ms/step - loss: 0.4756 - accuracy: 0.7487\n",
            "Epoch 44/100\n",
            "119/119 [==============================] - 0s 2ms/step - loss: 0.4701 - accuracy: 0.7496\n",
            "Epoch 45/100\n",
            "119/119 [==============================] - 0s 2ms/step - loss: 0.4753 - accuracy: 0.7479\n",
            "Epoch 46/100\n",
            "119/119 [==============================] - 0s 2ms/step - loss: 0.4781 - accuracy: 0.7374\n",
            "Epoch 47/100\n",
            "119/119 [==============================] - 0s 2ms/step - loss: 0.4695 - accuracy: 0.7555\n",
            "Epoch 48/100\n",
            "119/119 [==============================] - 0s 3ms/step - loss: 0.4785 - accuracy: 0.7302\n",
            "Epoch 49/100\n",
            "119/119 [==============================] - 0s 2ms/step - loss: 0.4780 - accuracy: 0.7361\n",
            "Epoch 50/100\n",
            "119/119 [==============================] - 0s 3ms/step - loss: 0.4708 - accuracy: 0.7475\n",
            "Epoch 51/100\n",
            "119/119 [==============================] - 0s 3ms/step - loss: 0.4750 - accuracy: 0.7424\n",
            "Epoch 52/100\n",
            "119/119 [==============================] - 0s 2ms/step - loss: 0.4727 - accuracy: 0.7487\n",
            "Epoch 53/100\n",
            "119/119 [==============================] - 0s 2ms/step - loss: 0.4604 - accuracy: 0.7530\n",
            "Epoch 54/100\n",
            "119/119 [==============================] - 0s 2ms/step - loss: 0.4692 - accuracy: 0.7492\n",
            "Epoch 55/100\n",
            "119/119 [==============================] - 0s 4ms/step - loss: 0.4728 - accuracy: 0.7487\n",
            "Epoch 56/100\n",
            "119/119 [==============================] - 0s 3ms/step - loss: 0.4731 - accuracy: 0.7285\n",
            "Epoch 57/100\n",
            "119/119 [==============================] - 0s 2ms/step - loss: 0.4844 - accuracy: 0.7466\n",
            "Epoch 58/100\n",
            "119/119 [==============================] - 0s 2ms/step - loss: 0.4787 - accuracy: 0.7378\n",
            "Epoch 59/100\n",
            "119/119 [==============================] - 0s 4ms/step - loss: 0.4785 - accuracy: 0.7361\n",
            "Epoch 60/100\n",
            "119/119 [==============================] - 0s 4ms/step - loss: 0.4762 - accuracy: 0.7437\n",
            "Epoch 61/100\n",
            "119/119 [==============================] - 0s 3ms/step - loss: 0.4717 - accuracy: 0.7567\n",
            "Epoch 62/100\n",
            "119/119 [==============================] - 1s 4ms/step - loss: 0.4731 - accuracy: 0.7441\n",
            "Epoch 63/100\n",
            "119/119 [==============================] - 0s 3ms/step - loss: 0.4779 - accuracy: 0.7340\n",
            "Epoch 64/100\n",
            "119/119 [==============================] - 0s 4ms/step - loss: 0.4769 - accuracy: 0.7441\n",
            "Epoch 65/100\n",
            "119/119 [==============================] - 0s 3ms/step - loss: 0.4816 - accuracy: 0.7441\n",
            "Epoch 66/100\n",
            "119/119 [==============================] - 0s 3ms/step - loss: 0.4763 - accuracy: 0.7462\n",
            "Epoch 67/100\n",
            "119/119 [==============================] - 0s 3ms/step - loss: 0.4781 - accuracy: 0.7466\n",
            "Epoch 68/100\n",
            "119/119 [==============================] - 0s 3ms/step - loss: 0.4722 - accuracy: 0.7420\n",
            "Epoch 69/100\n",
            "119/119 [==============================] - 0s 3ms/step - loss: 0.4678 - accuracy: 0.7445\n",
            "Epoch 70/100\n",
            "119/119 [==============================] - 0s 3ms/step - loss: 0.4646 - accuracy: 0.7445\n",
            "Epoch 71/100\n",
            "119/119 [==============================] - 0s 3ms/step - loss: 0.4719 - accuracy: 0.7437\n",
            "Epoch 72/100\n",
            "119/119 [==============================] - 0s 3ms/step - loss: 0.4612 - accuracy: 0.7597\n",
            "Epoch 73/100\n",
            "119/119 [==============================] - 0s 4ms/step - loss: 0.4591 - accuracy: 0.7525\n",
            "Epoch 74/100\n",
            "119/119 [==============================] - 1s 4ms/step - loss: 0.4678 - accuracy: 0.7513\n",
            "Epoch 75/100\n",
            "119/119 [==============================] - 0s 3ms/step - loss: 0.4670 - accuracy: 0.7479\n",
            "Epoch 76/100\n",
            "119/119 [==============================] - 0s 2ms/step - loss: 0.4732 - accuracy: 0.7416\n",
            "Epoch 77/100\n",
            "119/119 [==============================] - 0s 2ms/step - loss: 0.4698 - accuracy: 0.7479\n",
            "Epoch 78/100\n",
            "119/119 [==============================] - 0s 2ms/step - loss: 0.4598 - accuracy: 0.7525\n",
            "Epoch 79/100\n",
            "119/119 [==============================] - 0s 2ms/step - loss: 0.4658 - accuracy: 0.7525\n",
            "Epoch 80/100\n",
            "119/119 [==============================] - 0s 2ms/step - loss: 0.4702 - accuracy: 0.7437\n",
            "Epoch 81/100\n",
            "119/119 [==============================] - 0s 2ms/step - loss: 0.4669 - accuracy: 0.7445\n",
            "Epoch 82/100\n",
            "119/119 [==============================] - 0s 2ms/step - loss: 0.4714 - accuracy: 0.7546\n",
            "Epoch 83/100\n",
            "119/119 [==============================] - 0s 2ms/step - loss: 0.4668 - accuracy: 0.7521\n",
            "Epoch 84/100\n",
            "119/119 [==============================] - 0s 3ms/step - loss: 0.4663 - accuracy: 0.7420\n",
            "Epoch 85/100\n",
            "119/119 [==============================] - 0s 2ms/step - loss: 0.4538 - accuracy: 0.7728\n",
            "Epoch 86/100\n",
            "119/119 [==============================] - 0s 2ms/step - loss: 0.4614 - accuracy: 0.7462\n",
            "Epoch 87/100\n",
            "119/119 [==============================] - 0s 2ms/step - loss: 0.4820 - accuracy: 0.7386\n",
            "Epoch 88/100\n",
            "119/119 [==============================] - 0s 3ms/step - loss: 0.4795 - accuracy: 0.7424\n",
            "Epoch 89/100\n",
            "119/119 [==============================] - 0s 3ms/step - loss: 0.4694 - accuracy: 0.7395\n",
            "Epoch 90/100\n",
            "119/119 [==============================] - 0s 2ms/step - loss: 0.4567 - accuracy: 0.7513\n",
            "Epoch 91/100\n",
            "119/119 [==============================] - 0s 2ms/step - loss: 0.4665 - accuracy: 0.7475\n",
            "Epoch 92/100\n",
            "119/119 [==============================] - 0s 2ms/step - loss: 0.4635 - accuracy: 0.7690\n",
            "Epoch 93/100\n",
            "119/119 [==============================] - 0s 2ms/step - loss: 0.4639 - accuracy: 0.7517\n",
            "Epoch 94/100\n",
            "119/119 [==============================] - 0s 2ms/step - loss: 0.4656 - accuracy: 0.7454\n",
            "Epoch 95/100\n",
            "119/119 [==============================] - 0s 2ms/step - loss: 0.4563 - accuracy: 0.7648\n",
            "Epoch 96/100\n",
            "119/119 [==============================] - 0s 2ms/step - loss: 0.4694 - accuracy: 0.7496\n",
            "Epoch 97/100\n",
            "119/119 [==============================] - 0s 2ms/step - loss: 0.4748 - accuracy: 0.7458\n",
            "Epoch 98/100\n",
            "119/119 [==============================] - 0s 2ms/step - loss: 0.4704 - accuracy: 0.7411\n",
            "Epoch 99/100\n",
            "119/119 [==============================] - 0s 2ms/step - loss: 0.4698 - accuracy: 0.7622\n",
            "Epoch 100/100\n",
            "119/119 [==============================] - 0s 2ms/step - loss: 0.4780 - accuracy: 0.7441\n"
          ]
        },
        {
          "output_type": "execute_result",
          "data": {
            "text/plain": [
              "<keras.callbacks.History at 0x7fc6141f2b80>"
            ]
          },
          "metadata": {},
          "execution_count": 23
        }
      ]
    },
    {
      "cell_type": "code",
      "source": [
        "classifier.predict([[22,0,3,1,8,1]])\n",
        "classifier.predict([[18,0,4,3,9,0]])\n",
        "\n",
        "classifier.predict([[23,0,4,1,6,0]])"
      ],
      "metadata": {
        "colab": {
          "base_uri": "https://localhost:8080/"
        },
        "id": "d_KUYWuDeV6y",
        "outputId": "5f422dfd-9468-4a28-fd0b-5e2237d2c68f"
      },
      "execution_count": 24,
      "outputs": [
        {
          "output_type": "stream",
          "name": "stdout",
          "text": [
            "1/1 [==============================] - 0s 110ms/step\n",
            "1/1 [==============================] - 0s 36ms/step\n",
            "1/1 [==============================] - 0s 34ms/step\n"
          ]
        },
        {
          "output_type": "execute_result",
          "data": {
            "text/plain": [
              "array([[1.]], dtype=float32)"
            ]
          },
          "metadata": {},
          "execution_count": 24
        }
      ]
    },
    {
      "cell_type": "code",
      "source": [
        "import pickle\n",
        "pickle.dump(knn,open(\"placement.pkl\",'wb'))\n",
        "model=pickle.load(open('placement.pkl','rb'))\n",
        "\n"
      ],
      "metadata": {
        "id": "t94ymvr1VUSk"
      },
      "execution_count": 25,
      "outputs": []
    },
    {
      "cell_type": "markdown",
      "source": [
        "# New Section"
      ],
      "metadata": {
        "id": "TharpzsXabX_"
      }
    }
  ]
}